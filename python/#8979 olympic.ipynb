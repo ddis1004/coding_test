{
 "cells": [
  {
   "cell_type": "code",
   "execution_count": 22,
   "id": "d423fd9e",
   "metadata": {},
   "outputs": [],
   "source": [
    "def quicksort(sequence, start, end):\n",
    "    if start < end :\n",
    "        q = partition(sequence, start, end)\n",
    "        quicksort(sequence, start, q-1)\n",
    "        quicksort(sequence, q + 1, end);\n",
    "        \n",
    "def partition(sequence, start, end):\n",
    "    temp = 1\n",
    "    pivot = sequence[start]\n",
    "    i = start\n",
    "    j = start + 1\n",
    "    \n",
    "    while j <= end : \n",
    "        if comparemedal(sequence[j], pivot) == -1 :\n",
    "            i = i+1\n",
    "            #swap(sequence[j], sequence[i])\n",
    "            c = sequence[j]\n",
    "            sequence[j] = sequence[i]\n",
    "            sequence[i] = c\n",
    "        j = j + 1\n",
    "    #swap(sequence[i], sequence[start]) \n",
    "    c = sequence[i]\n",
    "    sequence[i] = sequence[start] \n",
    "    sequence[start] = c\n",
    "    \n",
    "    return i\n",
    "\n",
    "def swap(a, b) : \n",
    "    c = a\n",
    "    a = b\n",
    "    b = c\n",
    "    \n",
    "def comparemedal(a, b):\n",
    "    \n",
    "    if a['gold'] == b['gold'] : \n",
    "        if a['silver'] == b['silver']:\n",
    "            if a['bronze'] == b['bronze'] : \n",
    "                return 0\n",
    "            elif a['bronze'] < b['bronze']:\n",
    "                return 1\n",
    "            else :\n",
    "                return -1\n",
    "        elif a['silver'] < b['silver']:\n",
    "            return 1\n",
    "        else :\n",
    "            return -1\n",
    "    elif a['gold'] < b['gold']:\n",
    "        return 1\n",
    "    else :\n",
    "        return -1\n",
    "    \n",
    "def binsearch(list, target, start, end):\n",
    "    mid = (int)((start + end)/2)\n",
    "    compareval = comparemedal(list[mid], target)\n",
    "    if compareval == 0 :\n",
    "        return mid\n",
    "    elif compareval == -1 :\n",
    "        return binsearch(list, target, mid + 1, end)\n",
    "    else :\n",
    "        return binsearch(list, target, start, mid -1)\n",
    "    \n",
    "    "
   ]
  },
  {
   "cell_type": "code",
   "execution_count": 23,
   "id": "0e1cc204",
   "metadata": {},
   "outputs": [],
   "source": [
    "a = {'gold': 3, 'silver' : 2, 'bronze' : 1}\n",
    "b = {'gold': 2, 'silver' : 2, 'bronze' : 1}\n",
    "c = {'gold': 2, 'silver' : 2, 'bronze' : 1}\n",
    "d = {'gold': 1, 'silver' : 2, 'bronze' : 1}\n",
    "e = {'gold': 4, 'silver' : 2, 'bronze' : 1}"
   ]
  },
  {
   "cell_type": "code",
   "execution_count": 26,
   "id": "e0577c82",
   "metadata": {},
   "outputs": [
    {
     "name": "stdout",
     "output_type": "stream",
     "text": [
      "4 2\n",
      "1 3 0 0\n",
      "3 0 0 2\n",
      "4 0 2 0\n",
      "2 0 2 0\n",
      "[{'name': 1, 'gold': 3, 'silver': 0, 'bronze': 0}, {'name': 2, 'gold': 0, 'silver': 2, 'bronze': 0}, {'name': 4, 'gold': 0, 'silver': 2, 'bronze': 0}, {'name': 3, 'gold': 0, 'silver': 0, 'bronze': 2}]\n",
      "2\n"
     ]
    }
   ],
   "source": [
    "#read size, target number\n",
    "countrynum, target = map(int, input().split())\n",
    "\n",
    "#read medals. if reached target number make it into target\n",
    "countrylist = []\n",
    "for i in range(countrynum):\n",
    "    countryname, gold, silver, bronze = map(int, input().split())\n",
    "    newcountry = {'name': countryname, 'gold': gold, 'silver': silver, 'bronze': bronze}\n",
    "    countrylist.append(newcountry)\n",
    "\n",
    "#quicksort\n",
    "quicksort(countrylist, 0, countrynum - 1)\n",
    "\n",
    "#search the target\n",
    "rank = 0\n",
    "for country in countrylist:\n",
    "    rank = rank + 1\n",
    "    #read upperside of target, if medal is same calculate ranking print\n",
    "    if country['name'] == target:\n",
    "        while comparemedal(countrylist[rank - 1], countrylist[rank - 2]) == 0:\n",
    "            rank = rank - 1\n",
    "        print(rank)\n",
    "        break\n",
    "        \n"
   ]
  },
  {
   "cell_type": "code",
   "execution_count": null,
   "id": "dd9e19cd",
   "metadata": {},
   "outputs": [],
   "source": []
  },
  {
   "cell_type": "code",
   "execution_count": null,
   "id": "3b45076d",
   "metadata": {},
   "outputs": [],
   "source": []
  },
  {
   "cell_type": "code",
   "execution_count": null,
   "id": "c656b849",
   "metadata": {},
   "outputs": [],
   "source": []
  }
 ],
 "metadata": {
  "kernelspec": {
   "display_name": "Python 3",
   "language": "python",
   "name": "python3"
  },
  "language_info": {
   "codemirror_mode": {
    "name": "ipython",
    "version": 3
   },
   "file_extension": ".py",
   "mimetype": "text/x-python",
   "name": "python",
   "nbconvert_exporter": "python",
   "pygments_lexer": "ipython3",
   "version": "3.8.8"
  }
 },
 "nbformat": 4,
 "nbformat_minor": 5
}
