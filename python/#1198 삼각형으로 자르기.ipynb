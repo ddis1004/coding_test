{
 "cells": [
  {
   "cell_type": "code",
   "execution_count": 15,
   "id": "c1eec13f",
   "metadata": {},
   "outputs": [],
   "source": [
    "def triarea(point1, point2, point3):\n",
    "    A = point1['x'] * point2['y'] + point2['x'] * point3['y'] + point3['x'] * point1['y']\n",
    "    B = point2['x'] * point1['y'] + point3['x'] * point2['y'] + point1['x'] * point3['y']\n",
    "    area = abs(A- B)/2\n",
    "    return area\n",
    "\n",
    "#pick 3 points\n",
    "#save maximum\n",
    "#print maximum\n",
    "\n",
    "def maximumarea(pointlist) :\n",
    "    maxarea = 0\n",
    "    for i in range(len(pointlist)):\n",
    "        for j in range(i + 1, len(pointlist)) : \n",
    "            for k in range(j + 1, len(pointlist)) :\n",
    "                area = triarea(pointlist[i], pointlist[j], pointlist[k])\n",
    "                if area > maxarea:\n",
    "                    maxarea = area\n",
    "    return maxarea\n",
    "\n"
   ]
  },
  {
   "cell_type": "code",
   "execution_count": 17,
   "id": "2f20d0ad",
   "metadata": {},
   "outputs": [
    {
     "name": "stdout",
     "output_type": "stream",
     "text": [
      "4\n",
      "1 1\n",
      "1 2\n",
      "3 3 \n",
      "2 1\n",
      "trying  {'x': 1, 'y': 1} {'x': 1, 'y': 2} {'x': 3, 'y': 3}\n",
      "trying  {'x': 1, 'y': 1} {'x': 1, 'y': 2} {'x': 2, 'y': 1}\n",
      "trying  {'x': 1, 'y': 1} {'x': 3, 'y': 3} {'x': 2, 'y': 1}\n",
      "trying  {'x': 1, 'y': 2} {'x': 3, 'y': 3} {'x': 2, 'y': 1}\n",
      "1.5\n"
     ]
    }
   ],
   "source": [
    "pointnum = int(input())\n",
    "pointlist = []\n",
    "for i in range(pointnum):\n",
    "    x, y = map(int, input().split())\n",
    "    point = {'x': x, 'y': y}\n",
    "    pointlist.append(point)\n",
    "\n",
    "print(maximumarea(pointlist))"
   ]
  },
  {
   "cell_type": "code",
   "execution_count": 11,
   "id": "3927b351",
   "metadata": {},
   "outputs": [],
   "source": [
    "point1 = {'x' : 1, 'y' : 1}\n",
    "point2 = {'x' : 2, 'y' : 3}\n",
    "point3 = {'x' : 3, 'y' : 2}"
   ]
  },
  {
   "cell_type": "code",
   "execution_count": 12,
   "id": "d9ff6b46",
   "metadata": {},
   "outputs": [
    {
     "data": {
      "text/plain": [
       "1.5"
      ]
     },
     "execution_count": 12,
     "metadata": {},
     "output_type": "execute_result"
    }
   ],
   "source": [
    "triarea(point1, point2, point3)"
   ]
  },
  {
   "cell_type": "code",
   "execution_count": null,
   "id": "44ffb04f",
   "metadata": {},
   "outputs": [],
   "source": []
  }
 ],
 "metadata": {
  "kernelspec": {
   "display_name": "Python 3",
   "language": "python",
   "name": "python3"
  },
  "language_info": {
   "codemirror_mode": {
    "name": "ipython",
    "version": 3
   },
   "file_extension": ".py",
   "mimetype": "text/x-python",
   "name": "python",
   "nbconvert_exporter": "python",
   "pygments_lexer": "ipython3",
   "version": "3.8.8"
  }
 },
 "nbformat": 4,
 "nbformat_minor": 5
}
